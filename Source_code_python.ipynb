{
 "cells": [
  {
   "cell_type": "code",
   "execution_count": 3,
   "id": "90c21aaf",
   "metadata": {},
   "outputs": [],
   "source": [
    "import pandas as pd\n",
    "import random\n",
    "from faker import Faker\n",
    "from random import randrange\n",
    "from datetime import datetime"
   ]
  },
  {
   "cell_type": "code",
   "execution_count": 2,
   "id": "f95dcba3",
   "metadata": {},
   "outputs": [
    {
     "name": "stdout",
     "output_type": "stream",
     "text": [
      "Collecting faker\n",
      "  Downloading Faker-15.2.0-py3-none-any.whl (1.6 MB)\n",
      "\u001b[K     |████████████████████████████████| 1.6 MB 4.1 MB/s eta 0:00:01\n",
      "\u001b[?25hRequirement already satisfied: python-dateutil>=2.4 in /Users/manishreddytanuboddi/opt/anaconda3/lib/python3.9/site-packages (from faker) (2.8.2)\n",
      "Requirement already satisfied: six>=1.5 in /Users/manishreddytanuboddi/opt/anaconda3/lib/python3.9/site-packages (from python-dateutil>=2.4->faker) (1.16.0)\n",
      "Installing collected packages: faker\n",
      "Successfully installed faker-15.2.0\n"
     ]
    }
   ],
   "source": [
    "!pip install faker"
   ]
  },
  {
   "cell_type": "code",
   "execution_count": 5,
   "id": "739d16e4",
   "metadata": {},
   "outputs": [],
   "source": [
    "pd.pandas.set_option('display.max_columns', None)"
   ]
  },
  {
   "cell_type": "code",
   "execution_count": 4,
   "id": "6e670b88",
   "metadata": {},
   "outputs": [
    {
     "name": "stdout",
     "output_type": "stream",
     "text": [
      "    Transaction_date                          Name Gender  \\\n",
      "0         2021-08-07          Ronald Biggen B.Eng.      F   \n",
      "1         2021-07-22           Thoralf Eigenwillig      M   \n",
      "2         2021-01-24                 Alf Steinberg      F   \n",
      "3         2021-04-28             Antonietta Jopich      M   \n",
      "4         2021-02-26              Jakob Ebert MBA.      M   \n",
      "..               ...                           ...    ...   \n",
      "995       2021-03-29     Dipl.-Ing. Svenja Peukert      F   \n",
      "996       2021-03-29  Univ.Prof. Gunda Hiller MBA.      M   \n",
      "997       2021-07-24                   Eitel Gnatz      F   \n",
      "998       2021-05-15               Ralf-Peter Kaul      F   \n",
      "999       2021-08-02        Ing. Abdul Scheuermann      F   \n",
      "\n",
      "                        Email             City Product_id  Amount_spent  \n",
      "0       xtrommler@hornich.org        Erbisdorf   11486176         57.52  \n",
      "1     undinedussen-van@aol.de  Gräfenhainichen   28246824         57.11  \n",
      "2         bwagenknecht@aol.de            Kleve   45908002         18.93  \n",
      "3     nickgirschner@gmail.com           Weimar   85915831         56.84  \n",
      "4      werakade@roehrdanz.net            Stade   91677440         66.77  \n",
      "..                        ...              ...        ...           ...  \n",
      "995          yheintze@koch.de         Chemnitz   36156115         13.14  \n",
      "996    matthias61@koehler.com             Suhl   57422336         35.35  \n",
      "997      ojaekel@rosemann.net     Sangerhausen   08937421         94.61  \n",
      "998     loeffleralf@klemm.com     Gunzenhausen   06296773         78.41  \n",
      "999  haasecatharina@gmail.com       Deggendorf   75904432         21.66  \n",
      "\n",
      "[1000 rows x 7 columns]\n"
     ]
    }
   ],
   "source": [
    "records = 100\n",
    "fake = Faker('de_DE')\n",
    "\n",
    "data = []\n",
    "\n",
    "for customers_id in range(records):\n",
    "\n",
    "#     # Create transaction date \n",
    "#     d1 = datetime.strptime(f'1/1/2021', '%m/%d/%Y')\n",
    "#     d2 = datetime.strptime(f'8/10/2021', '%m/%d/%Y')\n",
    "#     transaction_date = fake.date_between(d1, d2)\n",
    "\n",
    "    name = fake.name()\n",
    "    gender = random.choice([\"M\", \"F\"])\n",
    "    email = fake.ascii_email()\n",
    "    city = fake.city()\n",
    "\n",
    "    #create product ID in 8-digit barcode\n",
    "    product_ID = fake.ean(length=8)\n",
    "    \n",
    "    #create amount spent\n",
    "#     amount_spent = fake.pyfloat(right_digits=2, positive=True, min_value=1, max_value=100)\n",
    "\n",
    "    data.append([transaction_date, name, gender, email, city, product_ID, amount_spent])\n",
    "\n",
    "data_df = pd.DataFrame(data, columns=['Transaction_date','Name', 'Gender','Email', 'City','Product_id', 'Amount_spent']) \n",
    "\n",
    "print(data_df)"
   ]
  },
  {
   "cell_type": "code",
   "execution_count": null,
   "id": "5096358d",
   "metadata": {},
   "outputs": [],
   "source": []
  }
 ],
 "metadata": {
  "kernelspec": {
   "display_name": "Python 3 (ipykernel)",
   "language": "python",
   "name": "python3"
  },
  "language_info": {
   "codemirror_mode": {
    "name": "ipython",
    "version": 3
   },
   "file_extension": ".py",
   "mimetype": "text/x-python",
   "name": "python",
   "nbconvert_exporter": "python",
   "pygments_lexer": "ipython3",
   "version": "3.9.12"
  }
 },
 "nbformat": 4,
 "nbformat_minor": 5
}
